{
 "cells": [
  {
   "cell_type": "code",
   "execution_count": 14,
   "id": "af1bff40",
   "metadata": {},
   "outputs": [],
   "source": [
    "class Queue:\n",
    "    def __init__(self):\n",
    "        self.items = []\n",
    "\n",
    "    def __str__(self):\n",
    "        values = [str(x) for x in self.items]\n",
    "        return ' '.join(values)\n",
    "    \n",
    "    def Isempty(self):\n",
    "        if self.items == []:\n",
    "            return True\n",
    "        else:\n",
    "            False\n",
    "    \n",
    "    def Enque(self, value):\n",
    "        self.items.append(value)\n",
    "        return 'Done'\n",
    "    \n",
    "    def Dequeue(self):\n",
    "        if self.Isempty():\n",
    "            return \"Empty\"\n",
    "        else: return self.items.pop(0)\n",
    "    \n",
    "    def peek(self):\n",
    "        if self.Isempty():\n",
    "            return \"Empty\"\n",
    "        else:\n",
    "            return self.items[0]\n",
    "\n",
    "\n",
    "    \n",
    "    \n",
    "    \n",
    "    "
   ]
  },
  {
   "cell_type": "code",
   "execution_count": 13,
   "id": "ee4d80ab",
   "metadata": {},
   "outputs": [
    {
     "name": "stdout",
     "output_type": "stream",
     "text": [
      "True\n",
      "Done\n",
      "Done\n",
      "Done\n",
      "1 2 3\n",
      "1\n",
      "2 3\n"
     ]
    }
   ],
   "source": [
    "customqueue = Queue()\n",
    "print(customqueue.Isempty())\n",
    "print(customqueue.Enque(1))\n",
    "print(customqueue.Enque(2))\n",
    "print(customqueue.Enque(3))\n",
    "print(customqueue.__str__())\n",
    "print(customqueue.Dequeue())\n",
    "print(customqueue.__str__())"
   ]
  },
  {
   "cell_type": "code",
   "execution_count": null,
   "id": "c360fc6c",
   "metadata": {},
   "outputs": [],
   "source": []
  }
 ],
 "metadata": {
  "kernelspec": {
   "display_name": "Python 3",
   "language": "python",
   "name": "python3"
  },
  "language_info": {
   "codemirror_mode": {
    "name": "ipython",
    "version": 3
   },
   "file_extension": ".py",
   "mimetype": "text/x-python",
   "name": "python",
   "nbconvert_exporter": "python",
   "pygments_lexer": "ipython3",
   "version": "3.10.11"
  }
 },
 "nbformat": 4,
 "nbformat_minor": 5
}
