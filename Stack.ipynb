{
 "cells": [
  {
   "cell_type": "code",
   "execution_count": 35,
   "id": "09649abf",
   "metadata": {},
   "outputs": [],
   "source": [
    "class Stack:\n",
    "    def __init__(self):\n",
    "        self.list = []\n",
    "\n",
    "    def __str__(self):\n",
    "        values = [str(x) for x in reversed(self.list)]\n",
    "        return '\\n'.join(values)\n",
    "    \n",
    "    def IsEmpty(self):\n",
    "        if self.list == []:\n",
    "            return True\n",
    "        else:\n",
    "            return False\n",
    "        \n",
    "    def push(self, value):\n",
    "        self.list.append(value)\n",
    "        return \"Success\" \n",
    "    \n",
    "    def pop(self):\n",
    "        if self.IsEmpty():\n",
    "            return 'Already Empty'\n",
    "        else:\n",
    "            self.list.pop()\n",
    "    \n",
    "    def peek(self):\n",
    "        if self.IsEmpty():\n",
    "            return 'Already Empty'\n",
    "        \n",
    "        else:\n",
    "            return self.list(len(self.list)-1)\n",
    "    \n",
    "    def delete(self):\n",
    "        self.list = None\n",
    "\n"
   ]
  },
  {
   "cell_type": "code",
   "execution_count": 34,
   "id": "518329ed",
   "metadata": {},
   "outputs": [
    {
     "name": "stdout",
     "output_type": "stream",
     "text": [
      "2\n",
      "1\n"
     ]
    }
   ],
   "source": [
    "customstack = Stack()\n",
    "customstack.push(1)\n",
    "customstack.push(2)\n",
    "customstack.push(3)\n",
    "customstack.pop()\n",
    "print(customstack)"
   ]
  },
  {
   "cell_type": "code",
   "execution_count": null,
   "id": "69fe2130",
   "metadata": {},
   "outputs": [],
   "source": []
  }
 ],
 "metadata": {
  "kernelspec": {
   "display_name": "Python 3",
   "language": "python",
   "name": "python3"
  },
  "language_info": {
   "codemirror_mode": {
    "name": "ipython",
    "version": 3
   },
   "file_extension": ".py",
   "mimetype": "text/x-python",
   "name": "python",
   "nbconvert_exporter": "python",
   "pygments_lexer": "ipython3",
   "version": "3.10.11"
  }
 },
 "nbformat": 4,
 "nbformat_minor": 5
}
