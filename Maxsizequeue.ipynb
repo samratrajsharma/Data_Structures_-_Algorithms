{
 "cells": [
  {
   "cell_type": "code",
   "execution_count": null,
   "id": "f7da2feb",
   "metadata": {},
   "outputs": [],
   "source": [
    "class Queue:\n",
    "    def __init__(self, maxsize):\n",
    "        self.items = maxsize * [None]\n",
    "        self.maxsize = maxsize\n",
    "        self.start = -1\n",
    "        self.top = -1\n",
    "\n",
    "    def __str__(self):\n",
    "        values = [str(x) for x in self.items]\n",
    "        return ' '.join(values)\n",
    "    \n",
    "    def IsFull(self):\n",
    "        if self.top +1 == self.start:\n",
    "            return True\n",
    "        elif self.start == 0 and self.top == self.maxsize:\n",
    "            return True\n",
    "        else:\n",
    "            return False\n",
    "        \n",
    "    def IsEmpty(self):\n",
    "        if self.top == -1:\n",
    "            return True\n",
    "        else: return False\n",
    "\n",
    "    def enqueue(self):\n",
    "        if self.IsFull():\n",
    "            return \"Queue is Full\"\n",
    "        else:\n",
    "            if self.top +1 ==self.maxsize:\n",
    "                self.top = 0\n",
    "            else:\n",
    "                self.top += 1\n",
    "                if self.start == -1:\n",
    "                    self.start = 0\n",
    "            self.items[self.top] = value\n",
    "            return 'Inserted'\n",
    "                    \n",
    "\n",
    "\n",
    "\n",
    "\n",
    "        \n",
    "    \n",
    "        "
   ]
  },
  {
   "cell_type": "code",
   "execution_count": null,
   "id": "4ca1eb39",
   "metadata": {},
   "outputs": [],
   "source": []
  }
 ],
 "metadata": {
  "language_info": {
   "name": "python"
  }
 },
 "nbformat": 4,
 "nbformat_minor": 5
}
